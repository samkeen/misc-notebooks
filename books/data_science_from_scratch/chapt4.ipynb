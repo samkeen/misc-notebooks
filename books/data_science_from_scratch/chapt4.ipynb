{
 "cells": [
  {
   "cell_type": "code",
   "execution_count": 1,
   "metadata": {
    "collapsed": true,
    "pycharm": {
     "is_executing": false
    }
   },
   "outputs": [],
   "source": [
    "from typing import List\n",
    "\n",
    "Vector = List[float]\n",
    "def add(v: Vector, w: Vector) -> Vector:\n",
    "    \"\"\"vector addition\"\"\"\n",
    "    assert len(v) == len(w)  # you can only add vectors of same length\n",
    "    # [1, 1, 2]\n",
    "    #  +  +  + ---> [3, 3, 4]\n",
    "    # [2, 2, 2]\n",
    "    return [v_i + w_i for v_i, w_i in zip(v, w)]\n"
   ]
  },
  {
   "cell_type": "code",
   "execution_count": 2,
   "metadata": {},
   "outputs": [],
   "source": [
    "def subtract(v: Vector, w: Vector) -> Vector:\n",
    "    \"\"\"vector addition\"\"\"\n",
    "    assert len(v) == len(w)  # you can only add vectors of same length\n",
    "    # [1, 1, 2]\n",
    "    #  +  +  + ---> [3, 3, 4]\n",
    "    # [2, 2, 2]\n",
    "    return [v_i - w_i for v_i, w_i in zip(v, w)]"
   ]
  },
  {
   "cell_type": "code",
   "execution_count": 3,
   "metadata": {},
   "outputs": [],
   "source": [
    "def vector_sum(vectors: List[Vector]) -> Vector:\n",
    "    assert vectors, 'no vectors provided'\n",
    "    vector_size = len(vectors[0])\n",
    "    assert all(len(v) == vector_size for v in vectors), 'vectors are not all the same size'\n",
    "    # --------- long hand for loops\n",
    "    # summed = []\n",
    "    # # for each element index of our vectors\n",
    "    # for i in range(vector_size):\n",
    "    #     # add all the elements at that index in all vectors\n",
    "    #     summed.append(sum(vector[i] for vector in vectors))\n",
    "    # --------- nested list comprehension\n",
    "    summed = [sum(vector[i] for vector in vectors) for i in range(vector_size)]\n",
    "    return summed\n",
    "\n",
    "\n",
    "def scalar_multiply(c: float, v: Vector) -> Vector:\n",
    "    return [c * v_i for v_i in v]"
   ]
  },
  {
   "cell_type": "code",
   "execution_count": 5,
   "metadata": {},
   "outputs": [
    {
     "name": "stdout",
     "output_type": "stream",
     "text": [
      "[3, 3, 4]\n",
      "[4, 4, 5]\n",
      "[10, 10, 20]\n"
     ]
    }
   ],
   "source": [
    "print(add([1, 1, 2], [2, 2, 2]))\n",
    "print(vector_sum([[1, 1, 2], [2, 2, 2], [1, 1, 1]]))\n",
    "print(scalar_multiply(10, [1, 1, 2]))"
   ]
  },
  {
   "cell_type": "code",
   "execution_count": 6,
   "metadata": {},
   "outputs": [],
   "source": [
    "def vector_mean(vectors: List[Vector]) -> Vector:\n",
    "    \"\"\"computes the element-wise average\"\"\"\n",
    "    n = len(vectors)\n",
    "    return scalar_multiply(1/n, vector_sum(vectors))"
   ]
  },
  {
   "cell_type": "code",
   "execution_count": 8,
   "metadata": {},
   "outputs": [
    {
     "name": "stdout",
     "output_type": "stream",
     "text": [
      "[46.666666666666664, 50.0, 31.666666666666664]\n"
     ]
    }
   ],
   "source": [
    "print(vector_mean([[20,60,20], [80,30,55], [40,60,20]]))"
   ]
  },
  {
   "cell_type": "markdown",
   "metadata": {},
   "source": [
    "**Dot Product** Length of vector you would get if you projected `v` onto `w`\n",
    "\n",
    "And thus the dot product of vectors are right angles to each other is always 0"
   ]
  },
  {
   "cell_type": "code",
   "execution_count": 9,
   "metadata": {},
   "outputs": [],
   "source": [
    "def dot(v: Vector, w: Vector) -> float:\n",
    "    \"\"\"computes v_1 * w_1 + ... + v_n * w_n\"\"\"\n",
    "    assert len(v) == len(w), \"must be same length\"\n",
    "    return sum(v_i * w_i for v_i, w_i in zip(v, w))"
   ]
  },
  {
   "cell_type": "code",
   "execution_count": 10,
   "metadata": {},
   "outputs": [
    {
     "name": "stdout",
     "output_type": "stream",
     "text": [
      "32\n"
     ]
    }
   ],
   "source": [
    "# [1,2,3]\n",
    "#  * * * -> 4 + 10 + 18 = 32\n",
    "# [4,5,6]\n",
    "print(dot([1,2,3], [4,5,6]))"
   ]
  },
  {
   "cell_type": "code",
   "execution_count": 14,
   "metadata": {},
   "outputs": [],
   "source": [
    "def sum_of_squares(v: Vector) -> float:\n",
    "    \"\"\"returns v_1 * v_1 + ... v_n * v_n\"\"\"\n",
    "    return dot(v, v)"
   ]
  },
  {
   "cell_type": "code",
   "execution_count": 15,
   "metadata": {},
   "outputs": [
    {
     "name": "stdout",
     "output_type": "stream",
     "text": [
      "17\n"
     ]
    }
   ],
   "source": [
    "print(sum_of_squares([2,2,3]))"
   ]
  },
  {
   "cell_type": "code",
   "execution_count": 16,
   "metadata": {},
   "outputs": [],
   "source": [
    "import math\n",
    "\n",
    "def magnitude(v: Vector) -> float:\n",
    "    return math.sqrt(sum_of_squares(v))"
   ]
  },
  {
   "cell_type": "code",
   "execution_count": 17,
   "metadata": {},
   "outputs": [
    {
     "name": "stdout",
     "output_type": "stream",
     "text": [
      "5.0\n"
     ]
    }
   ],
   "source": [
    "print(magnitude([3,4]))"
   ]
  },
  {
   "cell_type": "markdown",
   "metadata": {},
   "source": [
    "We can now compute the distance between two vectors"
   ]
  },
  {
   "cell_type": "code",
   "execution_count": 18,
   "metadata": {},
   "outputs": [],
   "source": [
    "def squared_distance(v: Vector, w: Vector) -> float:\n",
    "    \"\"\"computes (v_1 - w_1) ** 2 + ... + (v_n - w_n) ** 2 \"\"\"\n",
    "    return sum_of_squares(subtract(v, w))\n",
    "\n",
    "# def distance(v: Vector, w: Vector) -> float:\n",
    "#     return math.sqrt(squared_distance(v, w))\n",
    "# this can be clearer written as\n",
    "def distance(v: Vector, w: Vector) -> float:\n",
    "    return(magnitude(subtract(v,w)))"
   ]
  },
  {
   "cell_type": "code",
   "execution_count": 21,
   "metadata": {},
   "outputs": [
    {
     "name": "stdout",
     "output_type": "stream",
     "text": [
      "1.0\n",
      "2.0\n"
     ]
    }
   ],
   "source": [
    "print(distance([1,1], [1,2]))\n",
    "print(distance([1,1],[1,3]))"
   ]
  },
  {
   "cell_type": "code",
   "execution_count": null,
   "metadata": {},
   "outputs": [],
   "source": []
  }
 ],
 "metadata": {
  "kernelspec": {
   "display_name": "Python 3",
   "language": "python",
   "name": "python3"
  },
  "language_info": {
   "codemirror_mode": {
    "name": "ipython",
    "version": 3
   },
   "file_extension": ".py",
   "mimetype": "text/x-python",
   "name": "python",
   "nbconvert_exporter": "python",
   "pygments_lexer": "ipython3",
   "version": "3.6.6"
  },
  "pycharm": {
   "stem_cell": {
    "cell_type": "raw",
    "metadata": {
     "collapsed": false
    },
    "source": []
   }
  }
 },
 "nbformat": 4,
 "nbformat_minor": 1
}
